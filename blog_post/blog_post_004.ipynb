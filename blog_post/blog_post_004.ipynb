{
 "cells": [
  {
   "metadata": {},
   "cell_type": "markdown",
   "source": [
    "# Building Elasticity: A Streamlit Project Preview\n",
    "\n",
    "It’s been a couple of weeks since my last post — and no, I haven’t disappeared into the fintech void. Quite the opposite.\n",
    "\n",
    "I’ve been building a new project that combines economic theory, data wrangling, and web-based visualization. The topic?\n",
    "📉 **Price Elasticity of Demand** — and how it affects revenue across different pricing strategies.\n",
    "\n",
    "---\n",
    "\n",
    "\n"
   ],
   "id": "c8839cda8142d308"
  },
  {
   "metadata": {},
   "cell_type": "markdown",
   "source": [
    "## 🧪 The Goal\n",
    "\n",
    "This post is a sneak peek into a larger blog + app combo I’m currently working on. The full project will feature:\n",
    "\n",
    "- A **DuckDB** backend to manage and query data locally\n",
    "- A **Streamlit** frontend to explore revenue and elasticity interactions\n",
    "- A dataset with real-world (and messy) sales data\n",
    "- Visual tools to help users understand how pricing impacts total revenue\n",
    "\n",
    "---\n",
    "\n"
   ],
   "id": "b6195097fa223960"
  },
  {
   "metadata": {},
   "cell_type": "markdown",
   "source": [
    "## 🛠 Tools I’m Using\n",
    "\n",
    "- **DuckDB** for blazing-fast SQL queries without a server\n",
    "- **Pandas** for data cleanup and transformation\n",
    "- **Streamlit** (my first time using it!) to deploy an interactive, browser-based app\n",
    "- **Matplotlib / Plotly** for visualizing elasticity curves and revenue inflection points\n",
    "\n",
    "---\n",
    "\n"
   ],
   "id": "3e8077f191ac1e08"
  },
  {
   "metadata": {},
   "cell_type": "markdown",
   "source": [
    "## 📸 Here’s a Peek\n",
    "\n",
    "### 📊 A First Look at the Data: Something’s Off\n",
    "\n",
    "One of the first steps in the project was to visualize raw sales data. When I plotted a histogram of transaction volumes, this is what I saw:\n",
    "\n",
    "![Raw Data Histogram](../figures/histogram_raw_data.png)\n",
    "\n",
    "At first glance, it looked like **most of the transactions had zero sales** — which didn’t make intuitive sense given the source of the dataset.\n",
    "\n",
    "### 🧐 What’s Going On Here?\n",
    "\n",
    "This spike at zero was suspicious. Here’s what I did to investigate:\n",
    "- Checked for **missing or null values** disguised as zeros\n",
    "- Explored whether zeros represented **days stores were closed** or **out-of-stock scenarios**\n",
    "- Compared this with other columns like inventory, store ID, and date ranges\n",
    "\n",
    "In the end, it became clear that this zero-heavy chunk was **not useful** for understanding price elasticity — because it wasn't driven by price behavior, but likely by **non-pricing operational factors**.\n",
    "\n",
    "### 🧹 Why It Had to Go\n",
    "\n",
    "Including this in the analysis would skew revenue calculations and elasticity estimates — making prices seem more \"inelastic\" than they actually are.\n",
    "\n",
    "---\n",
    "\n"
   ],
   "id": "aafae02854442255"
  },
  {
   "metadata": {},
   "cell_type": "markdown",
   "source": [
    "## 🤔 What’s Next?\n",
    "\n",
    "In the full post, I’ll explain:\n",
    "- Why I discarded these zero-sales rows\n",
    "- How I filtered the data to only include **meaningful economic activity**\n",
    "- The impact this had on **model quality and visual output**\n",
    "\n",
    "This little spike told a big story — and it's the kind of detail that separates toy models from real-world analytics.\n",
    "\n",
    "---\n",
    "\n"
   ],
   "id": "b03a41e84899a5ae"
  },
  {
   "metadata": {},
   "cell_type": "markdown",
   "source": [
    "## 🔍 Why This Matters\n",
    "\n",
    "Elasticity isn't just an economics concept — it’s a critical tool in everything from infrastructure planning to fintech strategy.\n",
    "Whether you're optimizing water usage pricing for a city utility or adjusting SaaS subscriptions, **understanding price sensitivity is essential**.\n",
    "\n",
    "And that’s what this app aims to explore:\n",
    "> What happens to revenue when prices change — and how can we visualize that in real time?\n",
    "\n",
    "---\n",
    "\n"
   ],
   "id": "ea16090cf98388c2"
  },
  {
   "metadata": {},
   "cell_type": "markdown",
   "source": [
    "## 🚧 Coming Soon\n",
    "\n",
    "The full breakdown will walk through:\n",
    "- The elasticity formula (with code)\n",
    "- Building a DuckDB pipeline\n",
    "- Developing the Streamlit app\n",
    "- Revenue vs. price curve interpretation\n",
    "- Use cases in both **engineering** and **fintech**\n",
    "\n",
    "Stay tuned — and if you’ve worked with Streamlit before, I’m all ears for tips.\n",
    "\n",
    "---\n",
    "\n",
    "🧠 *Follow along for more Python-powered projects at the intersection of engineering and finance.*"
   ],
   "id": "d580bd84c535796e"
  },
  {
   "metadata": {},
   "cell_type": "code",
   "outputs": [],
   "execution_count": null,
   "source": "",
   "id": "fd1389b45622b0c8"
  }
 ],
 "metadata": {
  "kernelspec": {
   "display_name": "Python 3",
   "language": "python",
   "name": "python3"
  },
  "language_info": {
   "codemirror_mode": {
    "name": "ipython",
    "version": 2
   },
   "file_extension": ".py",
   "mimetype": "text/x-python",
   "name": "python",
   "nbconvert_exporter": "python",
   "pygments_lexer": "ipython2",
   "version": "2.7.6"
  }
 },
 "nbformat": 4,
 "nbformat_minor": 5
}
